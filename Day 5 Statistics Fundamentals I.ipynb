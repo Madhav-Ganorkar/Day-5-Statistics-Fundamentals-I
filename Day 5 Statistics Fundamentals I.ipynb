{
  "nbformat": 4,
  "nbformat_minor": 0,
  "metadata": {
    "colab": {
      "provenance": []
    },
    "kernelspec": {
      "name": "python3",
      "display_name": "Python 3"
    },
    "language_info": {
      "name": "python"
    }
  },
  "cells": [
    {
      "cell_type": "markdown",
      "source": [
        "# Theory (10)"
      ],
      "metadata": {
        "id": "R9ydmA8I31BK"
      }
    },
    {
      "cell_type": "markdown",
      "source": [
        "**1. Define and differentiate nominal, ordinal, interval, and ratio scales.**      \n",
        "Ans:    \n",
        "Explanation of Each Scale:\n",
        "Nominal Scale (Qualitative, Unordered)\n",
        "* What it is: Labels or categories with no order or ranking.\n",
        "\n",
        "* Examples: Gender (Male, Female), Blood Group (A, B, AB, O), Eye Color.\n",
        "\n",
        "* Operations: We can only count or check for equality. No mathematical operations.\n",
        "\n",
        "* Real-life Use: Grouping customers by region.\n",
        "\n",
        "Ordinal Scale (Qualitative, Ordered)\n",
        "* What it is: Categories with a meaningful order, but no fixed difference between them.\n",
        "\n",
        "* Examples: Education Level (High School < Bachelor < Master < PhD), Movie Ratings (Bad < Average < Good).\n",
        "\n",
        "* Operations: Comparisons like > or <, but not arithmetic.\n",
        "\n",
        "* Real-life Use: Customer satisfaction surveys (e.g., “Very Bad” to “Excellent”).\n",
        "\n",
        "Interval Scale (Quantitative, No True Zero)\n",
        "* What it is: Ordered scale with equal intervals but no true zero point.\n",
        "\n",
        "* Examples: Temperature in Celsius or Fahrenheit.\n",
        "\n",
        "* Operations: You can add and subtract values, but ratios don’t make sense (e.g., 20°C is not “twice as hot” as 10°C).\n",
        "\n",
        "* Real-life Use: Calendar dates, IQ scores.\n",
        "\n",
        "Ratio Scale (Quantitative, True Zero)\n",
        "* What it is: Like interval, but with a meaningful zero — so ratios are meaningful.\n",
        "\n",
        "* Examples: Height, Weight, Age, Income, Distance.\n",
        "\n",
        "* Operations: All arithmetic operations are valid (addition, subtraction, multiplication, division).\n",
        "\n",
        "* Real-life Use: Financial modeling, physics measurements.\n"
      ],
      "metadata": {
        "id": "AN26GyLnAwgH"
      }
    },
    {
      "cell_type": "markdown",
      "source": [
        "**2. Explain mean, median, mode, and when each is appropriate.**       \n",
        "Ans:     \n",
        "Mean (Average):\n",
        "* Definition: Sum of all values ÷ total number of values.\n",
        "\n",
        "* Formula:\n",
        " - Mean = ∑ 𝑋 / 𝑛\n",
        "\n",
        "\n",
        "* Use Case: Best when data is symmetric with no outliers.\n",
        "\n",
        "* Example: Average score of students: (70 + 80 + 90)/3 = 80.\n",
        "\n",
        "Median (Middle Value):\n",
        "* Definition: Middle value when data is sorted.\n",
        "\n",
        "* Use Case: Best when data is skewed or has outliers.\n",
        "\n",
        "* Example: Income data: [30K, 35K, 40K, 1000K] → Median = 35K (mean is misleading here).\n",
        "\n",
        "Mode (Most Frequent Value):\n",
        "* Definition: Value that occurs most frequently.\n",
        "\n",
        "* Use Case: Best for categorical or multimodal data.\n",
        "\n",
        "* Example: Favorite fruit survey → [Apple, Apple, Banana, Mango] → Mode = Apple."
      ],
      "metadata": {
        "id": "5AwLUDFNBjah"
      }
    },
    {
      "cell_type": "markdown",
      "source": [
        "**3. How are variance and standard deviation calculated?**       \n",
        "Ans:    \n",
        "Variance (σ² / s²):\n",
        "* Definition: Average of squared differences from the mean.\n",
        "\n",
        "* Formula:\n",
        "\n",
        " - Population:\n",
        "\n",
        "         𝜎^2 = ∑(𝑥𝑖 − 𝜇)^2 / 𝑁\n",
        "\n",
        " - Sample:\n",
        "\n",
        "         𝑠^2 = ∑(𝑥𝑖 − 𝑥ˉ)^2 / 𝑛 − 1\n",
        "\n",
        "\n",
        "Standard Deviation (σ / s):\n",
        "* Definition: Square root of the variance.\n",
        "\n",
        "* Formula: 𝜎 = 𝜎^2\n",
        "\n",
        "\n",
        "Use:\n",
        "* Helps understand how spread out the data is.\n",
        "\n",
        "* Smaller SD = data is more concentrated near the mean.\n",
        "\n",
        "* Larger SD = more spread out.\n",
        "\n"
      ],
      "metadata": {
        "id": "WyUUXKKXDo_y"
      }
    },
    {
      "cell_type": "markdown",
      "source": [
        "**4. What is skewness and kurtosis?**     \n",
        "Ans:     \n",
        "Skewness (Asymmetry of data):\n",
        "* Positive Skew: Right tail is longer (e.g., income distribution).\n",
        "\n",
        "* Negative Skew: Left tail is longer (e.g., exam scores).\n",
        "\n",
        "* Zero Skew: Symmetric distribution.\n",
        "\n",
        "Kurtosis (Peakedness of distribution):\n",
        "* Leptokurtic (>3): Heavy tails, sharp peak.\n",
        "\n",
        "* Platykurtic (<3): Light tails, flat peak.\n",
        "\n",
        "* Mesokurtic (=3): Normal bell curve."
      ],
      "metadata": {
        "id": "Qfilu4kb38nY"
      }
    },
    {
      "cell_type": "markdown",
      "source": [
        "**5. Describe the Central Limit Theorem and its implications.**       \n",
        "Ans:   \n",
        "Central Limit Theorem (CLT):\n",
        "* Statement: No matter the shape of the population, the sampling distribution of the mean becomes normal if the sample size is large (n ≥ 30).\n",
        "\n",
        "* Implication:      \n",
        "  - We can apply normal distribution tools (like z-tests) to sample means.\n",
        "\n",
        "  - Makes inferential statistics possible."
      ],
      "metadata": {
        "id": "teZy57i44eVP"
      }
    },
    {
      "cell_type": "markdown",
      "source": [
        "**6. What is a z-score and how is it used?**      \n",
        "Ans:     \n",
        "Z-score:\n",
        "* Definition: How many standard deviations a data point is from the mean.\n",
        "\n",
        "* Formula:  𝑧 = ( 𝑋−𝜇 ) / 𝜎\n",
        "\n",
        "\n",
        "Use:\n",
        "* Identifying outliers (typically z > ±2 or ±3).\n",
        "\n",
        "* Standardizing different datasets.\n",
        "\n",
        "* Finding probabilities in a normal distribution."
      ],
      "metadata": {
        "id": "aGQoOl_e59rO"
      }
    },
    {
      "cell_type": "markdown",
      "source": [
        "**7. Explain probability basics: independent vs. dependent events.**     \n",
        "Ans:    \n",
        "Independent Events:\n",
        "* Definition: One event does not affect the other.\n",
        "\n",
        "* Formula:    \n",
        "     P(A ∩ B) = P(A) × P(B)\n",
        "\n",
        "* Example: Tossing a coin and rolling a die.\n",
        "\n",
        "Dependent Events:\n",
        "* Definition: One event affects the probability of the other.\n",
        "\n",
        "* Formula:     \n",
        "P(A ∩ B) = P(A)×P(B∣A)\n",
        "* Example: Drawing two cards without replacement from a deck."
      ],
      "metadata": {
        "id": "qfXxW4oC6yAb"
      }
    },
    {
      "cell_type": "markdown",
      "source": [
        "**8. What are the key properties of the Normal distribution?**     \n",
        "Ans:    \n",
        "Properties:\n",
        "* Bell-shaped, symmetric about the mean.\n",
        "\n",
        "* Mean = Median = Mode.\n",
        "\n",
        "* Defined by mean (μ) and standard deviation (σ).\n",
        "\n",
        "* 68–95–99.7 Rule:\n",
        "\n",
        "     - 68% data within 1σ\n",
        "\n",
        "     -  95% within 2σ\n",
        "\n",
        "     - 99.7% within 3σ\n",
        "\n",
        "✅ Use:\n",
        "* Many natural phenomena follow normal distribution (height, IQ, etc.).\n",
        "\n",
        "* Forms the basis for z-tests, confidence intervals, and more."
      ],
      "metadata": {
        "id": "1MGqYwyn8iQ2"
      }
    },
    {
      "cell_type": "markdown",
      "source": [
        "**9. How do binomial and Poisson distributions differ?**     \n",
        "Ans:   \n",
        "Binomial Distribution:\n",
        "* Used for: Discrete events with fixed number of trials (n).\n",
        "\n",
        "* Conditions:\n",
        "\n",
        " - Each trial is independent.\n",
        "\n",
        " - Only two outcomes: success or failure.\n",
        "\n",
        " - Fixed probability (p).\n",
        "\n",
        "* Example: Tossing a coin 10 times → count heads.\n",
        "\n",
        "Poisson Distribution:\n",
        "* Used for: Number of events in a fixed interval of time/space.\n",
        "\n",
        "* Conditions:\n",
        "\n",
        " - Events happen independently.\n",
        "\n",
        " - No upper limit on number of events.\n",
        "\n",
        " - Described by a rate (λ).\n",
        "\n",
        "* Example: Number of calls to a call center per hour."
      ],
      "metadata": {
        "id": "6NMsTauL_RZk"
      }
    },
    {
      "cell_type": "markdown",
      "source": [
        "**10. What is sampling bias and how can it be mitigated?**     \n",
        "Ans:     \n",
        "Sampling Bias:\n",
        "* Definition: When the sample is not representative of the population.\n",
        "\n",
        "* Effect: Leads to incorrect conclusions.\n",
        "\n",
        "Types:\n",
        "* Selection Bias: Excluding certain groups.\n",
        "\n",
        "* Non-response Bias: People don’t respond to surveys.\n",
        "\n",
        "* Survivorship Bias: Only looking at “survivors” (e.g., only profitable companies).\n",
        "\n",
        "How to Mitigate:\n",
        "* Use random sampling.\n",
        "\n",
        "* Ensure diverse representation.\n",
        "\n",
        "* Increase sample size.\n",
        "\n",
        "* Use stratified sampling for subgroups.\n",
        "\n"
      ],
      "metadata": {
        "id": "ZzwN0uxUAEHV"
      }
    },
    {
      "cell_type": "markdown",
      "source": [
        "# Implementation (5)"
      ],
      "metadata": {
        "id": "5Yl7RZCBGGIn"
      }
    },
    {
      "cell_type": "markdown",
      "source": [
        "**1. Compute descriptive statistics for a dataset using Pandas.**     \n",
        "Ans:  \n",
        "We’ll read a dataset and compute mean, median, mode, variance, standard deviation, min, max, and quartiles using Pandas.\n",
        "\n",
        "\n"
      ],
      "metadata": {
        "id": "ReckOKhOGIVN"
      }
    },
    {
      "cell_type": "code",
      "source": [
        "import pandas as pd\n",
        "\n",
        "# Sample dataset\n",
        "data = {\n",
        "    'Age': [23, 25, 31, 35, 30, 29, 30, 28, 40, 34]\n",
        "}\n",
        "\n",
        "df = pd.DataFrame(data)\n",
        "\n",
        "# Descriptive statistics\n",
        "print(\"Mean:\", df['Age'].mean())\n",
        "print(\"Median:\", df['Age'].median())\n",
        "print(\"Mode:\", df['Age'].mode()[0])\n",
        "print(\"Variance:\", df['Age'].var())\n",
        "print(\"Standard Deviation:\", df['Age'].std())\n",
        "print(\"Min:\", df['Age'].min())\n",
        "print(\"Max:\", df['Age'].max())\n",
        "print(\"\\nFull describe():\")\n",
        "print(df.describe())\n"
      ],
      "metadata": {
        "colab": {
          "base_uri": "https://localhost:8080/"
        },
        "id": "xZSmJVlv3zV4",
        "outputId": "906379d9-46a8-461b-ea22-bb3645676400"
      },
      "execution_count": 1,
      "outputs": [
        {
          "output_type": "stream",
          "name": "stdout",
          "text": [
            "Mean: 30.5\n",
            "Median: 30.0\n",
            "Mode: 30\n",
            "Variance: 24.27777777777778\n",
            "Standard Deviation: 4.927248499698161\n",
            "Min: 23\n",
            "Max: 40\n",
            "\n",
            "Full describe():\n",
            "             Age\n",
            "count  10.000000\n",
            "mean   30.500000\n",
            "std     4.927248\n",
            "min    23.000000\n",
            "25%    28.250000\n",
            "50%    30.000000\n",
            "75%    33.250000\n",
            "max    40.000000\n"
          ]
        }
      ]
    },
    {
      "cell_type": "markdown",
      "source": [
        "**2. Plot a histogram and boxplot of a numeric variable.**     \n",
        "Ans:    \n",
        "* Histogram shows frequency distribution.\n",
        "\n",
        "* Boxplot helps identify outliers, median, and IQR."
      ],
      "metadata": {
        "id": "DXKpihYLGjxT"
      }
    },
    {
      "cell_type": "code",
      "execution_count": 2,
      "metadata": {
        "colab": {
          "base_uri": "https://localhost:8080/",
          "height": 407
        },
        "id": "3AgC897t3wn4",
        "outputId": "42d8df45-e365-4760-e6f4-8ef06e11f61f"
      },
      "outputs": [
        {
          "output_type": "display_data",
          "data": {
            "text/plain": [
              "<Figure size 1000x400 with 2 Axes>"
            ],
            "image/png": "[encoded data removed]"
          },
          "metadata": {}
        }
      ],
      "source": [
        "import matplotlib.pyplot as plt\n",
        "import seaborn as sns\n",
        "\n",
        "# Histogram\n",
        "plt.figure(figsize=(10, 4))\n",
        "plt.subplot(1, 2, 1)\n",
        "sns.histplot(df['Age'], bins=5, kde=True, color='skyblue')\n",
        "plt.title('Histogram of Age')\n",
        "\n",
        "# Boxplot\n",
        "plt.subplot(1, 2, 2)\n",
        "sns.boxplot(x=df['Age'], color='lightgreen')\n",
        "plt.title('Boxplot of Age')\n",
        "\n",
        "plt.tight_layout()\n",
        "plt.show()"
      ]
    },
    {
      "cell_type": "markdown",
      "source": [
        "**3. Calculate z-scores and filter outliers.**     \n",
        "Ans:    \n",
        "* A z-score tells how many standard deviations a value is from the mean.\n",
        "\n",
        "* We’ll filter values with z > 2 or < -2 (common threshold for outliers)."
      ],
      "metadata": {
        "id": "ebMxwwa-HFYx"
      }
    },
    {
      "cell_type": "code",
      "source": [
        "from scipy.stats import zscore\n",
        "\n",
        "# Calculate z-scores\n",
        "df['z_score'] = zscore(df['Age'])\n",
        "\n",
        "# Show outliers\n",
        "outliers = df[(df['z_score'] > 2) | (df['z_score'] < -2)]\n",
        "print(\"Outliers based on z-score:\")\n",
        "print(outliers)\n"
      ],
      "metadata": {
        "colab": {
          "base_uri": "https://localhost:8080/"
        },
        "id": "ZdqkF_XvHQ80",
        "outputId": "ae3222a9-28b5-4c22-c0cd-2c4465ba9573"
      },
      "execution_count": 3,
      "outputs": [
        {
          "output_type": "stream",
          "name": "stdout",
          "text": [
            "Outliers based on z-score:\n",
            "   Age   z_score\n",
            "8   40  2.032347\n"
          ]
        }
      ]
    },
    {
      "cell_type": "markdown",
      "source": [
        "**4. Simulate coin flips and compare empirical distribution to theoretical.**      \n",
        "Ans:     \n",
        "* We'll simulate 1000 coin flips.\n",
        "\n",
        "* Compare how often we get heads (empirical) vs theoretical (should be 0.5)."
      ],
      "metadata": {
        "id": "TJPkWDQOHZTI"
      }
    },
    {
      "cell_type": "code",
      "source": [
        "import numpy as np\n",
        "\n",
        "# Simulate 1000 coin flips (1=Heads, 0=Tails)\n",
        "np.random.seed(42)\n",
        "flips = np.random.choice([0, 1], size=1000)\n",
        "\n",
        "# Empirical probability\n",
        "empirical_heads = np.mean(flips)\n",
        "print(f\"Empirical Probability of Heads: {empirical_heads}\")\n",
        "\n",
        "# Theoretical probability\n",
        "print(\"Theoretical Probability of Heads: 0.5\")"
      ],
      "metadata": {
        "colab": {
          "base_uri": "https://localhost:8080/"
        },
        "id": "GIxMLdVpHqVs",
        "outputId": "9c3efbd6-69da-4478-ed39-f72d01e8b493"
      },
      "execution_count": 4,
      "outputs": [
        {
          "output_type": "stream",
          "name": "stdout",
          "text": [
            "Empirical Probability of Heads: 0.51\n",
            "Theoretical Probability of Heads: 0.5\n"
          ]
        }
      ]
    },
    {
      "cell_type": "markdown",
      "source": [
        "**5. Fit a Poisson distribution to count data and evaluate goodness-of-fit.**       \n",
        "Ans:   \n",
        "* Simulate number of customer arrivals per hour (Poisson process).\n",
        "\n",
        "* Fit a Poisson distribution and compare using a histogram + expected values."
      ],
      "metadata": {
        "id": "PJtRgz9eHvrf"
      }
    },
    {
      "cell_type": "code",
      "source": [
        "from scipy.stats import poisson\n",
        "\n",
        "# Simulate Poisson data with λ = 4 (mean arrivals per hour)\n",
        "np.random.seed(0)\n",
        "data = np.random.poisson(lam=4, size=1000)\n",
        "\n",
        "# Plot histogram of observed data\n",
        "plt.hist(data, bins=range(0, max(data)+2), align='left', color='orange', edgecolor='black', density=True)\n",
        "plt.title('Poisson Distribution - Observed Frequencies')\n",
        "\n",
        "# Overlay Poisson theoretical distribution\n",
        "lambda_est = np.mean(data)\n",
        "x = np.arange(0, max(data)+1)\n",
        "pmf = poisson.pmf(x, mu=lambda_est)\n",
        "plt.plot(x, pmf, 'bo-', label='Poisson PMF (λ=4)')\n",
        "plt.legend()\n",
        "plt.xlabel('Events per hour')\n",
        "plt.ylabel('Probability')\n",
        "plt.show()"
      ],
      "metadata": {
        "colab": {
          "base_uri": "https://localhost:8080/",
          "height": 472
        },
        "id": "Tfl46mdKH84_",
        "outputId": "328d3ab8-d7ab-4168-809d-f3497de9fd5f"
      },
      "execution_count": 5,
      "outputs": [
        {
          "output_type": "display_data",
          "data": {
            "text/plain": [
              "<Figure size 640x480 with 1 Axes>"
            ],
            "image/png": "[encoded data removed]"
          },
          "metadata": {}
        }
      ]
    }
  ]
}